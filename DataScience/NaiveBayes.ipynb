{
 "metadata": {
  "kernelspec": {
   "display_name": "Python 2",
   "language": "python",
   "name": "python2"
  },
  "language_info": {
   "codemirror_mode": {
    "name": "ipython",
    "version": 2
   },
   "file_extension": ".py",
   "mimetype": "text/x-python",
   "name": "python",
   "nbconvert_exporter": "python",
   "pygments_lexer": "ipython2",
   "version": "2.7.10"
  },
  "name": "",
  "signature": "sha256:f644f786b57018d057ec58645b6484314e3510dd0e25b1540b7c39e3893b0107"
 },
 "nbformat": 3,
 "nbformat_minor": 0,
 "worksheets": [
  {
   "cells": [
    {
     "cell_type": "heading",
     "level": 1,
     "metadata": {},
     "source": [
      "Naive Bayes (the easy way)"
     ]
    },
    {
     "cell_type": "markdown",
     "metadata": {},
     "source": [
      "We'll cheat by using sklearn.naive_bayes to train a spam classifier! Most of the code is just loading our training data into a pandas DataFrame that we can play with:"
     ]
    },
    {
     "cell_type": "code",
     "collapsed": false,
     "input": [
      "import os\n",
      "import io\n",
      "import numpy\n",
      "from pandas import DataFrame\n",
      "from sklearn.feature_extraction.text import CountVectorizer\n",
      "from sklearn.naive_bayes import MultinomialNB\n",
      "\n",
      "def readFiles(path): # the function iterates every single file in the directory\n",
      "    for root, dirnames, filenames in os.walk(path): # using os.walk(path)\n",
      "        for filename in filenames:\n",
      "            path = os.path.join(root, filename)\n",
      "\n",
      "            inBody = False\n",
      "            lines = []\n",
      "            f = io.open(path, 'r', encoding='latin1')\n",
      "            \n",
      "            # skip the header of the email\n",
      "            # this beacuase at moment we don't\n",
      "            # need these information\n",
      "            for line in f:\n",
      "                if inBody:\n",
      "                    lines.append(line)\n",
      "                elif line == '\\n':\n",
      "                    inBody = True\n",
      "            f.close()\n",
      "            message = '\\n'.join(lines)\n",
      "            yield path, message\n",
      "\n",
      "\n",
      "def dataFrameFromDirectory(path, classification):\n",
      "    rows = []\n",
      "    index = []\n",
      "    for filename, message in readFiles(path):\n",
      "        rows.append({'message': message, 'class': classification})\n",
      "        index.append(filename)\n",
      "\n",
      "    return DataFrame(rows, index=index)\n",
      "\n",
      "data = DataFrame({'message': [], 'class': []})\n",
      "\n",
      "# data = data.append(dataFrameFromDirectory('e:/sundog-consult/Udemy/DataScience/emails/spam', 'spam'))\n",
      "# data = data.append(dataFrameFromDirectory('e:/sundog-consult/Udemy/DataScience/emails/ham', 'ham'))\n",
      "\n",
      "data = data.append(dataFrameFromDirectory('/home/cfiorentino/python-ml/DataScience/emails/spam', 'spam'))\n",
      "data = data.append(dataFrameFromDirectory('/home/cfiorentino/python-ml/DataScience/emails/ham', 'ham'))\n"
     ],
     "language": "python",
     "metadata": {},
     "outputs": [],
     "prompt_number": 1
    },
    {
     "cell_type": "markdown",
     "metadata": {},
     "source": [
      "Let's have a look at that DataFrame:"
     ]
    },
    {
     "cell_type": "code",
     "collapsed": false,
     "input": [
      "data.head()"
     ],
     "language": "python",
     "metadata": {},
     "outputs": [
      {
       "html": [
        "<div style=\"max-width:1500px;overflow:auto;\">\n",
        "<table border=\"1\" class=\"dataframe\">\n",
        "  <thead>\n",
        "    <tr style=\"text-align: right;\">\n",
        "      <th></th>\n",
        "      <th>class</th>\n",
        "      <th>message</th>\n",
        "    </tr>\n",
        "  </thead>\n",
        "  <tbody>\n",
        "    <tr>\n",
        "      <th>/home/cfiorentino/python-ml/DataScience/emails/spam/00440.647d9eb44fd0cb069ea92be204966a8e</th>\n",
        "      <td>spam</td>\n",
        "      <td>------=_NextPart_000_00A6_30E15B3E.B5031C68\\n\\...</td>\n",
        "    </tr>\n",
        "    <tr>\n",
        "      <th>/home/cfiorentino/python-ml/DataScience/emails/spam/00308.c80d7cb2a6981efac408b429d42d2b89</th>\n",
        "      <td>spam</td>\n",
        "      <td>This is a multi-part message in MIME format\\n\\...</td>\n",
        "    </tr>\n",
        "    <tr>\n",
        "      <th>/home/cfiorentino/python-ml/DataScience/emails/spam/00266.3cf1dcf8df07100b1530493e11f80a25</th>\n",
        "      <td>spam</td>\n",
        "      <td>&lt;!DOCTYPE HTML PUBLIC \"-//W3C//DTD HTML 4.0 Tr...</td>\n",
        "    </tr>\n",
        "    <tr>\n",
        "      <th>/home/cfiorentino/python-ml/DataScience/emails/spam/00043.548c447db5d9ba3f5546de96baa9b0e6</th>\n",
        "      <td>spam</td>\n",
        "      <td>Help wanted.  We are a 14 year old fortune 500...</td>\n",
        "    </tr>\n",
        "    <tr>\n",
        "      <th>/home/cfiorentino/python-ml/DataScience/emails/spam/00136.faa39d8e816c70f23b4bb8758d8a74f0</th>\n",
        "      <td>spam</td>\n",
        "      <td>\\n\\n\u00d0\u00cf\u0011\u00e0\u00a1\u00b1\u001a\u00e1 Worldwide*\\n\\nGreat Restaurants, ...</td>\n",
        "    </tr>\n",
        "  </tbody>\n",
        "</table>\n",
        "</div>"
       ],
       "metadata": {},
       "output_type": "pyout",
       "prompt_number": 2,
       "text": [
        "                                                   class  \\\n",
        "/home/cfiorentino/python-ml/DataScience/emails/...  spam   \n",
        "/home/cfiorentino/python-ml/DataScience/emails/...  spam   \n",
        "/home/cfiorentino/python-ml/DataScience/emails/...  spam   \n",
        "/home/cfiorentino/python-ml/DataScience/emails/...  spam   \n",
        "/home/cfiorentino/python-ml/DataScience/emails/...  spam   \n",
        "\n",
        "                                                                                              message  \n",
        "/home/cfiorentino/python-ml/DataScience/emails/...  ------=_NextPart_000_00A6_30E15B3E.B5031C68\\n\\...  \n",
        "/home/cfiorentino/python-ml/DataScience/emails/...  This is a multi-part message in MIME format\\n\\...  \n",
        "/home/cfiorentino/python-ml/DataScience/emails/...  <!DOCTYPE HTML PUBLIC \"-//W3C//DTD HTML 4.0 Tr...  \n",
        "/home/cfiorentino/python-ml/DataScience/emails/...  Help wanted.  We are a 14 year old fortune 500...  \n",
        "/home/cfiorentino/python-ml/DataScience/emails/...  \\n\\n\u00d0\u00cf\u0011\u00e0\u00a1\u00b1\u001a\u00e1 Worldwide*\\n\\nGreat Restaurants, ...  "
       ]
      }
     ],
     "prompt_number": 2
    },
    {
     "cell_type": "markdown",
     "metadata": {},
     "source": [
      "Now we will use a CountVectorizer to split up each message into its list of words, and throw that into a MultinomialNB classifier. Call fit() and we've got a trained spam filter ready to go! It's just that easy."
     ]
    },
    {
     "cell_type": "code",
     "collapsed": false,
     "input": [
      "vectorizer = CountVectorizer() # this is used basically to split the email into list of words\n",
      "counts = vectorizer.fit_transform(data['message'].values) # we get the \"message\" column of the data frame, and call on it a function\n",
      "                                                          # that transform the word into numbers, and count the occurences of every\n",
      "                                                          # word\n",
      "\n",
      "classifier = MultinomialNB() # we are initializing the Naive Bayes' classifier -> it needs of two inputs:\n",
      "                             # the target for each \"thing\" (such as the classifier) and the training set\n",
      "targets = data['class'].values # here we define the classifier, the email is spam or not\n",
      "classifier.fit(counts, targets) # here we are constructing the models that we will use tho classify unknown email into spam/not spam"
     ],
     "language": "python",
     "metadata": {},
     "outputs": [
      {
       "metadata": {},
       "output_type": "pyout",
       "prompt_number": 3,
       "text": [
        "MultinomialNB(alpha=1.0, class_prior=None, fit_prior=True)"
       ]
      }
     ],
     "prompt_number": 3
    },
    {
     "cell_type": "markdown",
     "metadata": {},
     "source": [
      "Let's try it out:"
     ]
    },
    {
     "cell_type": "code",
     "collapsed": false,
     "input": [
      "examples = ['Free Viagra now!!!', \"viagra?\"] # construct an array in which we are putting two text\n",
      "                                                                                # one clearly spam (Free viagra...) and an other for\n",
      "                                                                                # sure not spam (Hi Bob,...)\n",
      "example_counts = vectorizer.transform(examples) # the only pre condition is to convert the example in the same format\n",
      "                                                # of the training set\n",
      "predictions = classifier.predict(example_counts)\n",
      "predictions"
     ],
     "language": "python",
     "metadata": {},
     "outputs": [
      {
       "metadata": {},
       "output_type": "pyout",
       "prompt_number": 7,
       "text": [
        "array(['spam', 'spam'], \n",
        "      dtype='|S4')"
       ]
      }
     ],
     "prompt_number": 7
    },
    {
     "cell_type": "heading",
     "level": 2,
     "metadata": {},
     "source": [
      "Activity"
     ]
    },
    {
     "cell_type": "markdown",
     "metadata": {},
     "source": [
      "Our data set is small, so our spam classifier isn't actually very good. Try running some different test emails through it and see if you get the results you expect.\n",
      "\n",
      "If you really want to challenge yourself, try applying train/test to this spam classifier - see how well it can predict some subset of the ham and spam emails."
     ]
    },
    {
     "cell_type": "code",
     "collapsed": false,
     "input": [],
     "language": "python",
     "metadata": {},
     "outputs": [],
     "prompt_number": null
    }
   ],
   "metadata": {}
  }
 ]
}