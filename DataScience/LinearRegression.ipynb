{
 "metadata": {
  "kernelspec": {
   "display_name": "Python 2",
   "language": "python",
   "name": "python2"
  },
  "language_info": {
   "codemirror_mode": {
    "name": "ipython",
    "version": 2
   },
   "file_extension": ".py",
   "mimetype": "text/x-python",
   "name": "python",
   "nbconvert_exporter": "python",
   "pygments_lexer": "ipython2",
   "version": "2.7.11"
  },
  "name": "",
  "signature": "sha256:2b82f8efcee5bd5646bd8e9d48b5883e3e50eec594c6c8af085cfa764f7e8add"
 },
 "nbformat": 3,
 "nbformat_minor": 0,
 "worksheets": [
  {
   "cells": [
    {
     "cell_type": "heading",
     "level": 1,
     "metadata": {},
     "source": [
      "Linear Regression"
     ]
    },
    {
     "cell_type": "markdown",
     "metadata": {},
     "source": [
      "Let's fabricate some data that shows a roughly linear relationship between page speed and amount purchased:"
     ]
    },
    {
     "cell_type": "code",
     "collapsed": false,
     "input": [
      "%matplotlib inline\n",
      "import numpy as np\n",
      "from pylab import *\n",
      "\n",
      "pageSpeeds = np.random.normal(3.0, 1, 1000)\n",
      "purchaseAmount = 100 - (pageSpeeds + np.random.normal(0, 0.1, 1000)) * 3\n",
      "\n",
      "scatter(pageSpeeds, purchaseAmount)"
     ],
     "language": "python",
     "metadata": {},
     "outputs": [
      {
       "metadata": {},
       "output_type": "pyout",
       "prompt_number": 28,
       "text": [
        "<matplotlib.collections.PathCollection at 0xaee0abac>"
       ]
      },
      {
       "metadata": {},
       "output_type": "display_data",
       "png": "[encoded data removed]",
       "text": [
        "<matplotlib.figure.Figure at 0xafa9c06c>"
       ]
      }
     ],
     "prompt_number": 28
    },
    {
     "cell_type": "markdown",
     "metadata": {},
     "source": [
      "As we only have two features, we can keep it simple and just use scipy.state.linregress:"
     ]
    },
    {
     "cell_type": "code",
     "collapsed": false,
     "input": [
      "from scipy import stats\n",
      "\n",
      "slope, intercept, r_value, p_value, std_err = stats.linregress(pageSpeeds, purchaseAmount)\n"
     ],
     "language": "python",
     "metadata": {},
     "outputs": [],
     "prompt_number": 29
    },
    {
     "cell_type": "markdown",
     "metadata": {},
     "source": [
      "Not surprisngly, our R-squared value shows a really good fit:"
     ]
    },
    {
     "cell_type": "code",
     "collapsed": false,
     "input": [
      "display(r_value ** 2) #exponent 2\n",
      "display(slope)\n",
      "display(intercept)"
     ],
     "language": "python",
     "metadata": {},
     "outputs": [
      {
       "metadata": {},
       "output_type": "display_data",
       "text": [
        "0.98931074973019295"
       ]
      },
      {
       "metadata": {},
       "output_type": "display_data",
       "text": [
        "-2.9950428235875735"
       ]
      },
      {
       "metadata": {},
       "output_type": "display_data",
       "text": [
        "99.972060689017582"
       ]
      }
     ],
     "prompt_number": 30
    },
    {
     "cell_type": "markdown",
     "metadata": {},
     "source": [
      "Let's use the slope and intercept we got from the regression to plot predicted values vs. observed:"
     ]
    },
    {
     "cell_type": "code",
     "collapsed": false,
     "input": [
      "import matplotlib.pyplot as plt\n",
      "\n",
      "def predict(x):\n",
      "    return slope * x + intercept # y = mx + c\n",
      "\n",
      "fitLine = predict(pageSpeeds)\n",
      "\n",
      "plt.scatter(pageSpeeds, purchaseAmount)\n",
      "plt.plot(pageSpeeds, fitLine, c='r')\n",
      "plt.show()"
     ],
     "language": "python",
     "metadata": {},
     "outputs": [
      {
       "metadata": {},
       "output_type": "display_data",
       "png": "[encoded data removed]",
       "text": [
        "<matplotlib.figure.Figure at 0xaeea970c>"
       ]
      }
     ],
     "prompt_number": 31
    },
    {
     "cell_type": "heading",
     "level": 2,
     "metadata": {},
     "source": [
      "Activity"
     ]
    },
    {
     "cell_type": "markdown",
     "metadata": {},
     "source": [
      "Try increasing the random variation in the test data, and see what effect it has on the r-squared error value."
     ]
    },
    {
     "cell_type": "code",
     "collapsed": false,
     "input": [],
     "language": "python",
     "metadata": {},
     "outputs": [],
     "prompt_number": null
    }
   ],
   "metadata": {}
  }
 ]
}